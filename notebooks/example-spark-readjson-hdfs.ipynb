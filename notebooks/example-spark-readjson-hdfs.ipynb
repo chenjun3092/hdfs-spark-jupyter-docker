{
 "cells": [
  {
   "cell_type": "code",
   "execution_count": 1,
   "metadata": {
    "collapsed": true
   },
   "outputs": [],
   "source": [
    "import pyspark\n",
    "sc = pyspark.SparkContext('spark://spark-master:7077')"
   ]
  },
  {
   "cell_type": "code",
   "execution_count": 2,
   "metadata": {
    "collapsed": true
   },
   "outputs": [],
   "source": [
    "# Import and create a new SQLContext \n",
    "from pyspark.sql import SQLContext\n",
    "sqlContext = SQLContext(sc)"
   ]
  },
  {
   "cell_type": "code",
   "execution_count": 4,
   "metadata": {
    "collapsed": false
   },
   "outputs": [],
   "source": [
    "# Read tweets CSV file into RDD of lines\n",
    "tweets_lines = sqlContext.read.json('hdfs://namenode:8020/user/root/tweets.json')"
   ]
  },
  {
   "cell_type": "code",
   "execution_count": 5,
   "metadata": {
    "collapsed": false
   },
   "outputs": [
    {
     "name": "stdout",
     "output_type": "stream",
     "text": [
      "root\n",
      " |-- _id: struct (nullable = true)\n",
      " |    |-- $oid: string (nullable = true)\n",
      " |-- coordinates: string (nullable = true)\n",
      " |-- retweet_count: long (nullable = true)\n",
      " |-- source: string (nullable = true)\n",
      " |-- tweet_ID: string (nullable = true)\n",
      " |-- tweet_followers_count: long (nullable = true)\n",
      " |-- tweet_mentioned_count: long (nullable = true)\n",
      " |-- tweet_text: string (nullable = true)\n",
      " |-- user: struct (nullable = true)\n",
      " |    |-- CreatedAt: struct (nullable = true)\n",
      " |    |    |-- $date: string (nullable = true)\n",
      " |    |-- FavouritesCount: long (nullable = true)\n",
      " |    |-- FollowersCount: long (nullable = true)\n",
      " |    |-- FriendsCount: long (nullable = true)\n",
      " |    |-- Location: string (nullable = true)\n",
      " |    |-- UserId: long (nullable = true)\n",
      " |-- user_name: string (nullable = true)\n",
      "\n"
     ]
    }
   ],
   "source": [
    "tweets_lines.printSchema()"
   ]
  },
  {
   "cell_type": "code",
   "execution_count": null,
   "metadata": {
    "collapsed": true
   },
   "outputs": [],
   "source": []
  }
 ],
 "metadata": {
  "anaconda-cloud": {},
  "kernelspec": {
   "display_name": "Python [default]",
   "language": "python",
   "name": "python3"
  },
  "language_info": {
   "codemirror_mode": {
    "name": "ipython",
    "version": 3
   },
   "file_extension": ".py",
   "mimetype": "text/x-python",
   "name": "python",
   "nbconvert_exporter": "python",
   "pygments_lexer": "ipython3",
   "version": "3.5.2"
  }
 },
 "nbformat": 4,
 "nbformat_minor": 1
}
