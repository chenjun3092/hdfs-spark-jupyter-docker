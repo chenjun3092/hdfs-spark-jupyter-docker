{
 "cells": [
  {
   "cell_type": "code",
   "execution_count": 1,
   "metadata": {
    "collapsed": true
   },
   "outputs": [],
   "source": [
    "import numpy as np\n",
    "from pyspark.mllib.linalg import Vectors\n",
    "from pyspark.mllib.clustering import KMeans\n",
    "\n",
    "#generate random data RDD we need this package\n",
    "from pyspark.mllib.random import RandomRDDs"
   ]
  },
  {
   "cell_type": "code",
   "execution_count": 2,
   "metadata": {
    "collapsed": true
   },
   "outputs": [],
   "source": [
    "import pyspark\n",
    "sc = pyspark.SparkContext('spark://spark-master:7077')"
   ]
  },
  {
   "cell_type": "code",
   "execution_count": 3,
   "metadata": {
    "collapsed": true
   },
   "outputs": [],
   "source": [
    "c1_v = RandomRDDs.normalVectorRDD(sc,20,2,numPartitions=2,seed=1).map(lambda v:np.add([1,5],v))\n",
    "c2_v = RandomRDDs.normalVectorRDD(sc,16,2,numPartitions=2,seed=2).map(lambda v:np.add([5,1],v))\n",
    "c3_v = RandomRDDs.normalVectorRDD(sc,12,2,numPartitions=2,seed=3).map(lambda v:np.add([4,6],v))\n",
    "\n",
    "#concatenate 2 RDDs with  .union(other) function\n",
    "c12 = c1_v.union(c2_v)\n",
    "my_data = c12.union(c3_v)   #this now has all points, as RDD\n",
    "\n",
    "\n",
    "my_kmmodel = KMeans.train(my_data,k=1,\n",
    "               maxIterations=20,runs=1,\n",
    "               initializationMode='k-means||',seed=10)"
   ]
  },
  {
   "cell_type": "code",
   "execution_count": 4,
   "metadata": {
    "collapsed": false
   },
   "outputs": [
    {
     "name": "stdout",
     "output_type": "stream",
     "text": [
      "9.57719005617\n"
     ]
    }
   ],
   "source": [
    "def getsse(point):\n",
    "    this_center = my_kmmodel.centers[my_kmmodel.predict(point)]\n",
    "           #for this point get it's clustercenter\n",
    "    return (sum([x**2 for x in (point - this_center)])) \n",
    "\n",
    "\n",
    "my_sse = my_data.map(getsse).collect()  # collect list of sse of each pt to its center\n",
    "print(np.array(my_sse).mean())"
   ]
  },
  {
   "cell_type": "code",
   "execution_count": 5,
   "metadata": {
    "collapsed": false
   },
   "outputs": [
    {
     "name": "stdout",
     "output_type": "stream",
     "text": [
      "1.73017164023\n"
     ]
    }
   ],
   "source": [
    "my_kmmodel = KMeans.train(my_data,k=4,\n",
    "               maxIterations=20,runs=1,\n",
    "               initializationMode='k-means||',seed=10)\n",
    "\n",
    "my_sse = my_data.map(getsse).collect()  # collect list of sse of each pt to its center\n",
    "print(np.array(my_sse).mean())"
   ]
  },
  {
   "cell_type": "code",
   "execution_count": 6,
   "metadata": {
    "collapsed": false
   },
   "outputs": [
    {
     "data": {
      "text/plain": [
       "(count: 48, mean: [ 3.12801059  3.92940785], stdev: [ 2.11814298  2.25624918], max: [ 6.36840832  8.04523732], min: [-1.33872715 -0.32867964])"
      ]
     },
     "execution_count": 6,
     "metadata": {},
     "output_type": "execute_result"
    }
   ],
   "source": [
    "my_data.stats()"
   ]
  },
  {
   "cell_type": "code",
   "execution_count": 7,
   "metadata": {
    "collapsed": false
   },
   "outputs": [
    {
     "name": "stdout",
     "output_type": "stream",
     "text": [
      "2.10255158159\n"
     ]
    }
   ],
   "source": [
    "my_kmmodel = KMeans.train(my_data,k=3,\n",
    "               maxIterations=20,runs=1,\n",
    "               initializationMode='k-means||',seed=10)\n",
    "\n",
    "my_sse = my_data.map(getsse).collect()  # collect list of sse of each pt to its center\n",
    "print(np.array(my_sse).mean())"
   ]
  },
  {
   "cell_type": "code",
   "execution_count": null,
   "metadata": {
    "collapsed": true
   },
   "outputs": [],
   "source": []
  }
 ],
 "metadata": {
  "anaconda-cloud": {},
  "kernelspec": {
   "display_name": "Python [default]",
   "language": "python",
   "name": "python3"
  },
  "language_info": {
   "codemirror_mode": {
    "name": "ipython",
    "version": 3
   },
   "file_extension": ".py",
   "mimetype": "text/x-python",
   "name": "python",
   "nbconvert_exporter": "python",
   "pygments_lexer": "ipython3",
   "version": "3.5.2"
  }
 },
 "nbformat": 4,
 "nbformat_minor": 1
}
